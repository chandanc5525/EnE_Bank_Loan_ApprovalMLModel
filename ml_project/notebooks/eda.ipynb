{
 "cells": [
  {
   "cell_type": "code",
   "execution_count": null,
   "id": "bea2d454",
   "metadata": {},
   "outputs": [],
   "source": [
    "3 "
   ]
  }
 ],
 "metadata": {
  "kernelspec": {
   "display_name": "env",
   "language": "python",
   "name": "python3"
  },
  "language_info": {
   "name": "python",
   "version": "3.12.7"
  }
 },
 "nbformat": 4,
 "nbformat_minor": 5
}
